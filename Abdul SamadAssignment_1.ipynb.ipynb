{
 "cells": [
  {
   "cell_type": "markdown",
   "metadata": {},
   "source": [
    "Assignment-1\n",
    "\n",
    "DSAI-B IX Python Task\n",
    "\n",
    "Name:Abdul Samad\n",
    "\n",
    "S/O:Salahuddin \n",
    "\n",
    "Email:abdulsamads3414@gmail.com\n",
    "\n",
    "Assigmnet Date:19-10-2024\n"
   ]
  },
  {
   "cell_type": "markdown",
   "metadata": {},
   "source": [
    "Question1:\n",
    "\n",
    "Create the variable first name and your last name and Compare the\n",
    "length of your first name and your last name."
   ]
  },
  {
   "cell_type": "code",
   "execution_count": 25,
   "metadata": {},
   "outputs": [
    {
     "name": "stdout",
     "output_type": "stream",
     "text": [
      "first and last name are equal in lengths\n"
     ]
    }
   ],
   "source": [
    "first_name='abdul'\n",
    "last_name='samad'\n",
    "if len(first_name)>len(last_name):\n",
    "    print ('the first name is the longer than the last name')\n",
    "elif len(first_name)<len(last_name):\n",
    "    print ('the last name is longer than the first name')\n",
    "else:\n",
    "    print ('first and last name are equal in lengths')"
   ]
  },
  {
   "cell_type": "markdown",
   "metadata": {},
   "source": [
    "Using the len() built-in function, find the length of your first\n",
    "name"
   ]
  },
  {
   "cell_type": "code",
   "execution_count": 26,
   "metadata": {},
   "outputs": [
    {
     "data": {
      "text/plain": [
       "5"
      ]
     },
     "execution_count": 26,
     "metadata": {},
     "output_type": "execute_result"
    }
   ],
   "source": [
    "len(first_name)"
   ]
  },
  {
   "cell_type": "markdown",
   "metadata": {},
   "source": [
    "Question 2:\n",
    "Declare 5 as num_one and 4 as num_two\n",
    "\n",
    " Add num_one and num_two and assign the value to a variable total\n",
    "\n",
    " Subtract num_two from num_one and assign the value to a variable\n",
    "diff\n",
    "\n",
    " Multiply num_two and num_one and assign the value to a variable\n",
    "product\n",
    "\n",
    " Divide num_one by num_two and assign the value to a variable\n",
    "division\n",
    "\n",
    "Use modulus division to find num_two divided by num_one and assign the value to a variable\n",
    "division\n",
    "\n",
    " Calculate num_one to the power of num_two and assign the value to\n",
    "a variable exp\n",
    "\n",
    " Find floor division of num_one by num_two and assign the value to\n",
    "a variable floor_division"
   ]
  },
  {
   "cell_type": "markdown",
   "metadata": {},
   "source": []
  },
  {
   "cell_type": "code",
   "execution_count": 27,
   "metadata": {},
   "outputs": [
    {
     "name": "stdout",
     "output_type": "stream",
     "text": [
      "The Total numbers of num_one and num_two is: 9\n"
     ]
    }
   ],
   "source": [
    "# Add num_one and num_two and assign the value to a variable total\n",
    "num_one=5\n",
    "num_two=4\n",
    "total=(num_one+num_two)\n",
    "print('The Total numbers of num_one and num_two is:', total)"
   ]
  },
  {
   "cell_type": "code",
   "execution_count": 28,
   "metadata": {},
   "outputs": [
    {
     "name": "stdout",
     "output_type": "stream",
     "text": [
      "The difference of num_one and num_two is: 1\n"
     ]
    }
   ],
   "source": [
    "# Subtract num_two from num_one and assign the value to a variable diff\n",
    "diff= num_one-num_two\n",
    "print ('The difference of num_one and num_two is:',diff)"
   ]
  },
  {
   "cell_type": "code",
   "execution_count": 29,
   "metadata": {},
   "outputs": [
    {
     "name": "stdout",
     "output_type": "stream",
     "text": [
      "The product of num_one and num_two is : 20\n"
     ]
    }
   ],
   "source": [
    "# Multiply num_two and num_one and assign the value to a variable product\n",
    "product =num_one*num_two\n",
    "print('The product of num_one and num_two is :',product)"
   ]
  },
  {
   "cell_type": "code",
   "execution_count": 30,
   "metadata": {},
   "outputs": [
    {
     "name": "stdout",
     "output_type": "stream",
     "text": [
      "The Division of num_one and num_two is : 1.25\n"
     ]
    }
   ],
   "source": [
    "# Divide num_one by num_two and assign the value to a variable division\n",
    "division =num_one/num_two\n",
    "print('The Division of num_one and num_two is :',division)"
   ]
  },
  {
   "cell_type": "code",
   "execution_count": 31,
   "metadata": {},
   "outputs": [
    {
     "name": "stdout",
     "output_type": "stream",
     "text": [
      "The modulus division of num_two divided by num_one is : 4\n"
     ]
    }
   ],
   "source": [
    "# Use modulus division to find num_two divided by num_one and assign the value to a variable reminder\n",
    "reminder =num_two%num_one\n",
    "print ('The modulus division of num_two divided by num_one is :',reminder)"
   ]
  },
  {
   "cell_type": "code",
   "execution_count": 32,
   "metadata": {},
   "outputs": [
    {
     "name": "stdout",
     "output_type": "stream",
     "text": [
      "The value of expression is : 625\n"
     ]
    }
   ],
   "source": [
    "#  Calculate num_one to the power of num_two and assign the value to a variable exp\n",
    "exp=num_one**num_two\n",
    "print('The value of expression is :',exp)"
   ]
  },
  {
   "cell_type": "code",
   "execution_count": 33,
   "metadata": {},
   "outputs": [
    {
     "name": "stdout",
     "output_type": "stream",
     "text": [
      "The floor division of num_one by num_two is : 1\n"
     ]
    }
   ],
   "source": [
    "# Find floor division of num_one by num_two and assign the value to a variable floor_division\n",
    "floor_division=num_one//num_two\n",
    "print('The floor division of num_one by num_two is :',floor_division) "
   ]
  },
  {
   "cell_type": "markdown",
   "metadata": {},
   "source": [
    "Question 3:\n",
    " The radius of a circle is 30 meters.\n",
    "\n",
    " Calculate the area of a circle and assign the value to a variable\n",
    "name of area_of_circle\n",
    "\n",
    " Calculate the circumference of a circle and assign the value to a\n",
    "variable name of circum_of_circle\n",
    "\n",
    " Take radius as user input and calculate the area."
   ]
  },
  {
   "cell_type": "code",
   "execution_count": 41,
   "metadata": {},
   "outputs": [
    {
     "name": "stdout",
     "output_type": "stream",
     "text": [
      "The area of the circle is : 2827.4333882308138\n"
     ]
    }
   ],
   "source": [
    "#  The radius of a circle is 30 meters.\n",
    "\n",
    "#  Calculate the area of a circle and assign the value to a variable name of area_of_circle\n",
    "\n",
    "# importing math library\n",
    "\n",
    "import math\n",
    "\n",
    "radius_of_circle = 30\n",
    "area_of_circle = math.pi * (radius_of_circle**2)\n",
    "print('The area of the circle is :',area_of_circle)"
   ]
  },
  {
   "cell_type": "code",
   "execution_count": 43,
   "metadata": {},
   "outputs": [
    {
     "name": "stdout",
     "output_type": "stream",
     "text": [
      "The circumference of the circle is : 94.24777960769379\n"
     ]
    }
   ],
   "source": [
    "#  Calculate the circumference of a circle and assign the value to a variable name of circum_of_circle\n",
    "\n",
    "#  Take radius as user input and calculate the area.\n",
    "\n",
    "# import maths\n",
    "\n",
    "import math\n",
    "\n",
    "radius_of_circumference_of_circle=int(input(\"Enter the number here:\"))\n",
    "area_of_circumference_of_circle= 2 * math.pi *(radius_of_circumference_of_circle)\n",
    "print('The circumference of the circle is :',area_of_circumference_of_circle)\n"
   ]
  },
  {
   "cell_type": "markdown",
   "metadata": {},
   "source": [
    "Question 4:\n",
    "A grocery store sells a bag of ice for $1.25 and makes a 20% profit. If\n",
    "it sells 500 bags of ice, how much total profit does it make?"
   ]
  },
  {
   "cell_type": "code",
   "execution_count": 44,
   "metadata": {},
   "outputs": [
    {
     "name": "stdout",
     "output_type": "stream",
     "text": [
      "profit per bag will be : 0.25\n",
      "Total profit for 500 bags are  125.0\n"
     ]
    }
   ],
   "source": [
    "Selling_price_per_bag = 1.25\n",
    "Profit_percentage = 0.20\n",
    "Number_of_bags_sold = 500\n",
    "profit_per_bag=1.25*0.20\n",
    "print('profit per bag will be :',profit_per_bag)\n",
    "\n",
    "Total_profit_for_500_bags=profit_per_bag*500\n",
    "print ('Total profit for 500 bags are ',Total_profit_for_500_bags)"
   ]
  },
  {
   "cell_type": "markdown",
   "metadata": {},
   "source": [
    "Question 5:\n",
    "\n",
    "A travel company wants to fly a plane to the Bahamas. Flying the plane\n",
    "costs 5000 dollars. So far, 29 people have signed up for the trip. If\n",
    "the company charges 200 dollars per ticket, what is the profit made by\n",
    "the company? Create variables for each numeric quantity and use\n",
    "appropriate arithmetic operations."
   ]
  },
  {
   "cell_type": "code",
   "execution_count": 45,
   "metadata": {},
   "outputs": [
    {
     "data": {
      "text/plain": [
       "800"
      ]
     },
     "execution_count": 45,
     "metadata": {},
     "output_type": "execute_result"
    }
   ],
   "source": [
    "# Define the variables\n",
    "cost_of_flight = 5000  # dollars\n",
    "people_signed_up = 29\n",
    "ticket_price = 200  # dollars\n",
    "\n",
    "# Calculate total revenue and profit\n",
    "revenue = people_signed_up * ticket_price\n",
    "profit = revenue - cost_of_flight\n",
    "\n",
    "profit\n"
   ]
  }
 ],
 "metadata": {
  "kernelspec": {
   "display_name": "Python 3",
   "language": "python",
   "name": "python3"
  },
  "language_info": {
   "codemirror_mode": {
    "name": "ipython",
    "version": 3
   },
   "file_extension": ".py",
   "mimetype": "text/x-python",
   "name": "python",
   "nbconvert_exporter": "python",
   "pygments_lexer": "ipython3",
   "version": "3.13.0"
  }
 },
 "nbformat": 4,
 "nbformat_minor": 2
}
